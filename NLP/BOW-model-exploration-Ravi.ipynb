{
 "cells": [
  {
   "cell_type": "code",
   "execution_count": 132,
   "metadata": {},
   "outputs": [],
   "source": [
    "import pandas as pd\n",
    "import numpy as np\n",
    "import random\n",
    "import nltk\n",
    "import collections\n",
    "import re\n",
    "import math\n",
    "import string\n",
    "import gensim\n",
    "import warnings\n",
    "import pickle\n",
    "\n",
    "from sklearn.metrics import roc_curve, auc, roc_auc_score, f1_score\n",
    "from sklearn.metrics import accuracy_score, confusion_matrix, classification_report\n",
    "from sklearn.model_selection import train_test_split\n",
    "from sklearn.model_selection import GridSearchCV\n",
    "from sklearn.linear_model import SGDClassifier\n",
    "from sklearn.feature_extraction.text import CountVectorizer, TfidfTransformer\n",
    "from sklearn.pipeline import Pipeline\n",
    "from wordcloud import WordCloud, STOPWORDS\n",
    "from nltk.tokenize import RegexpTokenizer\n",
    "from nltk.stem.porter import PorterStemmer\n",
    "from nltk.stem import WordNetLemmatizer\n",
    "from nltk.corpus import stopwords\n",
    "\n",
    "from gensim import corpora, models, utils\n",
    "from gensim.models.phrases import Phrases , Phraser\n",
    "\n",
    "from sklearn.feature_extraction.stop_words import ENGLISH_STOP_WORDS\n",
    "\n",
    "%matplotlib inline\n",
    "import matplotlib.pyplot as plt\n",
    "\n",
    "warnings.filterwarnings('ignore')"
   ]
  },
  {
   "cell_type": "code",
   "execution_count": 14,
   "metadata": {},
   "outputs": [
    {
     "data": {
      "text/html": [
       "<div>\n",
       "<style scoped>\n",
       "    .dataframe tbody tr th:only-of-type {\n",
       "        vertical-align: middle;\n",
       "    }\n",
       "\n",
       "    .dataframe tbody tr th {\n",
       "        vertical-align: top;\n",
       "    }\n",
       "\n",
       "    .dataframe thead th {\n",
       "        text-align: right;\n",
       "    }\n",
       "</style>\n",
       "<table border=\"1\" class=\"dataframe\">\n",
       "  <thead>\n",
       "    <tr style=\"text-align: right;\">\n",
       "      <th></th>\n",
       "      <th>id</th>\n",
       "      <th>text</th>\n",
       "      <th>ngv_qlty_1</th>\n",
       "      <th>ngv_qlty_2</th>\n",
       "      <th>ngv_qlty_3</th>\n",
       "    </tr>\n",
       "  </thead>\n",
       "  <tbody>\n",
       "    <tr>\n",
       "      <td>0</td>\n",
       "      <td>000897889268bc93</td>\n",
       "      <td>REDIRECT Talk:Voydan Pop Georgiev- Chernodrinski</td>\n",
       "      <td>0</td>\n",
       "      <td>0</td>\n",
       "      <td>0</td>\n",
       "    </tr>\n",
       "    <tr>\n",
       "      <td>1</td>\n",
       "      <td>00173958f46763a2</td>\n",
       "      <td>TFD \\n\\nI think we just eced. I think we respo...</td>\n",
       "      <td>0</td>\n",
       "      <td>0</td>\n",
       "      <td>0</td>\n",
       "    </tr>\n",
       "    <tr>\n",
       "      <td>2</td>\n",
       "      <td>0034d7c78cfa6dee</td>\n",
       "      <td>\"\\n\\nChrist. \"\"IQ is selected for therefore ev...</td>\n",
       "      <td>0</td>\n",
       "      <td>0</td>\n",
       "      <td>0</td>\n",
       "    </tr>\n",
       "    <tr>\n",
       "      <td>3</td>\n",
       "      <td>003fa0c68deca750</td>\n",
       "      <td>Check the following websites:\\n\\nhttp://www.ir...</td>\n",
       "      <td>0</td>\n",
       "      <td>0</td>\n",
       "      <td>0</td>\n",
       "    </tr>\n",
       "    <tr>\n",
       "      <td>4</td>\n",
       "      <td>004a789c03eda830</td>\n",
       "      <td>Including some appropriate mention of the Solo...</td>\n",
       "      <td>0</td>\n",
       "      <td>0</td>\n",
       "      <td>0</td>\n",
       "    </tr>\n",
       "  </tbody>\n",
       "</table>\n",
       "</div>"
      ],
      "text/plain": [
       "                 id                                               text  \\\n",
       "0  000897889268bc93   REDIRECT Talk:Voydan Pop Georgiev- Chernodrinski   \n",
       "1  00173958f46763a2  TFD \\n\\nI think we just eced. I think we respo...   \n",
       "2  0034d7c78cfa6dee  \"\\n\\nChrist. \"\"IQ is selected for therefore ev...   \n",
       "3  003fa0c68deca750  Check the following websites:\\n\\nhttp://www.ir...   \n",
       "4  004a789c03eda830  Including some appropriate mention of the Solo...   \n",
       "\n",
       "   ngv_qlty_1  ngv_qlty_2  ngv_qlty_3  \n",
       "0           0           0           0  \n",
       "1           0           0           0  \n",
       "2           0           0           0  \n",
       "3           0           0           0  \n",
       "4           0           0           0  "
      ]
     },
     "execution_count": 14,
     "metadata": {},
     "output_type": "execute_result"
    }
   ],
   "source": [
    "df = pd.read_csv('train.csv')\n",
    "df['ngv_qlty_1'] = df['ngv_qlty_1'].astype('int32') \n",
    "df.head()"
   ]
  },
  {
   "cell_type": "markdown",
   "metadata": {},
   "source": [
    "## Postive negative label count in each class"
   ]
  },
  {
   "cell_type": "code",
   "execution_count": 119,
   "metadata": {},
   "outputs": [
    {
     "data": {
      "text/plain": [
       "0    9672\n",
       "1     328\n",
       "Name: ngv_qlty_3, dtype: int64"
      ]
     },
     "execution_count": 119,
     "metadata": {},
     "output_type": "execute_result"
    }
   ],
   "source": [
    "df['ngv_qlty_3'].value_counts()"
   ]
  },
  {
   "cell_type": "code",
   "execution_count": 16,
   "metadata": {},
   "outputs": [
    {
     "data": {
      "text/plain": [
       "0    9625\n",
       "1     375\n",
       "Name: ngv_qlty_2, dtype: int64"
      ]
     },
     "execution_count": 16,
     "metadata": {},
     "output_type": "execute_result"
    }
   ],
   "source": [
    "df['ngv_qlty_2'].value_counts()"
   ]
  },
  {
   "cell_type": "code",
   "execution_count": 17,
   "metadata": {},
   "outputs": [
    {
     "data": {
      "text/plain": [
       "0    9231\n",
       "1     769\n",
       "Name: ngv_qlty_1, dtype: int64"
      ]
     },
     "execution_count": 17,
     "metadata": {},
     "output_type": "execute_result"
    }
   ],
   "source": [
    "df['ngv_qlty_1'].value_counts()"
   ]
  },
  {
   "cell_type": "code",
   "execution_count": 18,
   "metadata": {},
   "outputs": [],
   "source": [
    "# Function to remove stop words\n",
    "def get_stopwords():\n",
    "    \n",
    "    stop_words = set(stopwords.words('english'))\n",
    "    stop_words.update([x for x in ENGLISH_STOP_WORDS])\n",
    "\n",
    "    return list(stop_words)"
   ]
  },
  {
   "cell_type": "code",
   "execution_count": 19,
   "metadata": {},
   "outputs": [],
   "source": [
    "stop_words_list = get_stopwords()"
   ]
  },
  {
   "cell_type": "code",
   "execution_count": 120,
   "metadata": {},
   "outputs": [],
   "source": [
    "# Function to clean the data\n",
    "def clean_data(tweet):\n",
    "    tokenizer = RegexpTokenizer(r'\\w+')\n",
    "    ps = PorterStemmer()\n",
    "    wordnet_lemmatizer = WordNetLemmatizer()\n",
    "    \n",
    "    raw = tweet.lower().strip()\n",
    "    raw = re.sub(r\"\\s*http://www\\.[a-z]+\\.[a-z]+\\s*\", \" \", raw) #weblink\n",
    "    re.sub(r\"\\s*http://[a-z|\\.|/]+\\.htm\\s*\", \" \", raw) #weblink\n",
    "    re.sub(r\"\\s*[a-z]+@[a-z]+\\.[a-z]+\\s*\", \" \", raw) #email\n",
    "    raw = raw.replace(\"\\n\", \".\")\n",
    "    \n",
    "    sentence_list = re.split(\"\\!+|\\?+|;|:|\\.+\", raw)\n",
    "    \n",
    "    cleaned_tweet = \"\"\n",
    "    for sentence in sentence_list:\n",
    "        only_text = re.sub(\"[?|\\.|0-9|\\\"]\", \" \", sentence)\n",
    "        tokens = tokenizer.tokenize(only_text)\n",
    "    \n",
    "        lemma_tokens = [wordnet_lemmatizer.lemmatize(token) for token in tokens]\n",
    "        # stemmed_tokens = [ps.stem(token) for token in tokens]\n",
    "    \n",
    "        # remove stop words from tokens\n",
    "        stopped_tokens =  [token for token in lemma_tokens if not token in stop_words_list]\n",
    "    \n",
    "        clean_tokens = [token for token in stopped_tokens if len(token) > 1] # remove single character words\n",
    "        \n",
    "        if len(clean_tokens) > 0:\n",
    "            cleaned_tweet += (\" \".join(clean_tokens) + \" \")\n",
    "    \n",
    "    cleaned_tweet = re.sub('[^a-z]+', ' ', cleaned_tweet) # remove all non alphabet characters\n",
    "    return cleaned_tweet.strip()"
   ]
  },
  {
   "cell_type": "code",
   "execution_count": 42,
   "metadata": {},
   "outputs": [],
   "source": [
    "# Bag Of Words model\n",
    "\n",
    "def get_bow_model(X_train,Y_train): \n",
    "\n",
    "    pipeline = Pipeline([('vect', CountVectorizer()),\n",
    "                         ('tfidf', TfidfTransformer()), \n",
    "                         ('clf-svm', SGDClassifier(loss='log', penalty='l2',alpha=1e-3, max_iter=50,\n",
    "                                                   random_state=42, class_weight = {0:1, 1:14})),])\n",
    "    \n",
    "    tuned_parameters = [{'clf-svm__alpha': [1e-1,1e-2,1e-3],'clf-svm__max_iter':[30,50,70,90,120,150]}]\n",
    "    text_clf_svm = GridSearchCV(pipeline, param_grid=tuned_parameters)\n",
    "    \n",
    "    text_clf_svm_model = text_clf_svm.fit(X_train, Y_train)\n",
    "    # pickle.dump(text_clf_svm_model, open('bow_svm.sav', 'wb'))\n",
    "    \n",
    "    classifier = text_clf_svm_model.best_estimator_.named_steps['clf-svm']\n",
    "    count_vect = text_clf_svm_model.best_estimator_.named_steps['vect']\n",
    "    feat_names = count_vect.get_feature_names()\n",
    "    \n",
    "    return text_clf_svm_model, text_clf_svm, feat_names"
   ]
  },
  {
   "cell_type": "code",
   "execution_count": 58,
   "metadata": {},
   "outputs": [],
   "source": [
    "# Accuracy matrix - \n",
    "# 1. Roc_auc_score, \n",
    "# 2. Confusion matrix, \n",
    "# 3. Classification report\n",
    "\n",
    "def display_accuracy(pred, label_vector, model_name, data_type):\n",
    "    print(\"The accuracy( \" + data_type + \" ) for the model \" + model_name)\n",
    "    print(roc_auc_score(label_vector, pred))\n",
    "    print(confusion_matrix(label_vector, pred))\n",
    "    print(classification_report(label_vector, pred))\n",
    "    print(\"--------------------------------------------------------------\\n\\n\")"
   ]
  },
  {
   "cell_type": "code",
   "execution_count": 44,
   "metadata": {},
   "outputs": [],
   "source": [
    "# ROC curves\n",
    "\n",
    "def plot_roc(actual, pred): \n",
    "    false_positive_rate, true_positive_rate, thresholds = roc_curve(actual, pred)\n",
    "    roc_auc = auc(false_positive_rate, true_positive_rate)\n",
    "    \n",
    "    plt.title('Receiver Operating Characteristic')\n",
    "    plt.plot(false_positive_rate, true_positive_rate, 'b',label='AUC = %0.2f'% roc_auc)\n",
    "    plt.legend(loc='lower right')\n",
    "    plt.plot([0,1],[0,1],'r--')\n",
    "    plt.xlim([-0.1,1.2])\n",
    "    plt.ylim([-0.1,1.2])\n",
    "    plt.ylabel('True Positive Rate')\n",
    "    plt.xlabel('False Positive Rate')\n",
    "    plt.show()"
   ]
  },
  {
   "cell_type": "code",
   "execution_count": 121,
   "metadata": {},
   "outputs": [],
   "source": [
    "# Feature importance\n",
    "\n",
    "def plot_model_weights(classifier, feature_names, top_features=50):\n",
    "    coef = classifier.coef_.ravel()\n",
    "    \n",
    "    print(\"Total number of features are \", str(len(np.argsort(coef))))\n",
    "    \n",
    "    '''\n",
    "    with open('features.txt', 'w') as f:\n",
    "        for item in feature_names:\n",
    "            f.write(\"%s\\n\" % item)\n",
    "    f.close()\n",
    "    '''\n",
    "    \n",
    "    top_positive_coefficients = np.argsort(coef)[-top_features:]\n",
    "    top_negative_coefficients = np.argsort(coef)[:top_features]\n",
    "    top_coefficients = np.hstack([top_negative_coefficients, top_positive_coefficients])\n",
    " \n",
    "    # create plot\n",
    "    plt.figure(figsize=(15, 5))\n",
    "    colors = ['green' if c < 0 else 'red' for c in coef[top_coefficients]]\n",
    "    plt.bar(np.arange(2 * top_features), coef[top_coefficients], color=colors)\n",
    "    feature_names = np.array(feature_names)\n",
    "    \n",
    "    pos_list = []\n",
    "    neg_list = []\n",
    "    \n",
    "    neg_list = feature_names[np.argsort(coef)[-top_features:]].tolist()\n",
    "    neg_list.reverse()\n",
    "    neg_coeff = list(coef[top_positive_coefficients])\n",
    "    neg_coeff.reverse()\n",
    "             \n",
    "    pos_list = feature_names[np.argsort(coef)[:top_features]].tolist()\n",
    "    pos_coeff = list(coef[top_negative_coefficients])\n",
    "        \n",
    "    plt.xticks(np.arange(1, 1 + 2 * top_features), feature_names[top_coefficients], rotation=60, ha='right')\n",
    "    plt.show()\n",
    "    return pos_list,neg_list"
   ]
  },
  {
   "cell_type": "markdown",
   "metadata": {},
   "source": [
    "### Sanity check"
   ]
  },
  {
   "cell_type": "code",
   "execution_count": 116,
   "metadata": {},
   "outputs": [],
   "source": [
    "df['pre_clean_len'] = [len(t) for t in df['text']]"
   ]
  },
  {
   "cell_type": "markdown",
   "metadata": {},
   "source": [
    "## Cleaning Tweets"
   ]
  },
  {
   "cell_type": "code",
   "execution_count": 36,
   "metadata": {},
   "outputs": [],
   "source": [
    "df['cleaned_tweet'] = df.apply(lambda row : clean_data(row['text']), axis=1)"
   ]
  },
  {
   "cell_type": "code",
   "execution_count": 37,
   "metadata": {},
   "outputs": [
    {
     "data": {
      "text/html": [
       "<div>\n",
       "<style scoped>\n",
       "    .dataframe tbody tr th:only-of-type {\n",
       "        vertical-align: middle;\n",
       "    }\n",
       "\n",
       "    .dataframe tbody tr th {\n",
       "        vertical-align: top;\n",
       "    }\n",
       "\n",
       "    .dataframe thead th {\n",
       "        text-align: right;\n",
       "    }\n",
       "</style>\n",
       "<table border=\"1\" class=\"dataframe\">\n",
       "  <thead>\n",
       "    <tr style=\"text-align: right;\">\n",
       "      <th></th>\n",
       "      <th>id</th>\n",
       "      <th>text</th>\n",
       "      <th>ngv_qlty_1</th>\n",
       "      <th>ngv_qlty_2</th>\n",
       "      <th>ngv_qlty_3</th>\n",
       "      <th>cleaned_tweet</th>\n",
       "    </tr>\n",
       "  </thead>\n",
       "  <tbody>\n",
       "    <tr>\n",
       "      <td>0</td>\n",
       "      <td>000897889268bc93</td>\n",
       "      <td>REDIRECT Talk:Voydan Pop Georgiev- Chernodrinski</td>\n",
       "      <td>0</td>\n",
       "      <td>0</td>\n",
       "      <td>0</td>\n",
       "      <td>redirect talk voydan pop georgiev chernodrinski</td>\n",
       "    </tr>\n",
       "    <tr>\n",
       "      <td>1</td>\n",
       "      <td>00173958f46763a2</td>\n",
       "      <td>TFD \\n\\nI think we just eced. I think we respo...</td>\n",
       "      <td>0</td>\n",
       "      <td>0</td>\n",
       "      <td>0</td>\n",
       "      <td>tfd think eced think responded seeing response...</td>\n",
       "    </tr>\n",
       "    <tr>\n",
       "      <td>2</td>\n",
       "      <td>0034d7c78cfa6dee</td>\n",
       "      <td>\"\\n\\nChrist. \"\"IQ is selected for therefore ev...</td>\n",
       "      <td>0</td>\n",
       "      <td>0</td>\n",
       "      <td>0</td>\n",
       "      <td>christ iq selected population ha iq cease amaze</td>\n",
       "    </tr>\n",
       "    <tr>\n",
       "      <td>3</td>\n",
       "      <td>003fa0c68deca750</td>\n",
       "      <td>Check the following websites:\\n\\nhttp://www.ir...</td>\n",
       "      <td>0</td>\n",
       "      <td>0</td>\n",
       "      <td>0</td>\n",
       "      <td>check following website personality farabi far...</td>\n",
       "    </tr>\n",
       "    <tr>\n",
       "      <td>4</td>\n",
       "      <td>004a789c03eda830</td>\n",
       "      <td>Including some appropriate mention of the Solo...</td>\n",
       "      <td>0</td>\n",
       "      <td>0</td>\n",
       "      <td>0</td>\n",
       "      <td>including appropriate mention solomon article ...</td>\n",
       "    </tr>\n",
       "  </tbody>\n",
       "</table>\n",
       "</div>"
      ],
      "text/plain": [
       "                 id                                               text  \\\n",
       "0  000897889268bc93   REDIRECT Talk:Voydan Pop Georgiev- Chernodrinski   \n",
       "1  00173958f46763a2  TFD \\n\\nI think we just eced. I think we respo...   \n",
       "2  0034d7c78cfa6dee  \"\\n\\nChrist. \"\"IQ is selected for therefore ev...   \n",
       "3  003fa0c68deca750  Check the following websites:\\n\\nhttp://www.ir...   \n",
       "4  004a789c03eda830  Including some appropriate mention of the Solo...   \n",
       "\n",
       "   ngv_qlty_1  ngv_qlty_2  ngv_qlty_3  \\\n",
       "0           0           0           0   \n",
       "1           0           0           0   \n",
       "2           0           0           0   \n",
       "3           0           0           0   \n",
       "4           0           0           0   \n",
       "\n",
       "                                       cleaned_tweet  \n",
       "0    redirect talk voydan pop georgiev chernodrinski  \n",
       "1  tfd think eced think responded seeing response...  \n",
       "2    christ iq selected population ha iq cease amaze  \n",
       "3  check following website personality farabi far...  \n",
       "4  including appropriate mention solomon article ...  "
      ]
     },
     "execution_count": 37,
     "metadata": {},
     "output_type": "execute_result"
    }
   ],
   "source": [
    "df.head()"
   ]
  },
  {
   "cell_type": "code",
   "execution_count": 117,
   "metadata": {},
   "outputs": [],
   "source": [
    "df['post_clean_len'] = [len(t) for t in df['cleaned_tweet']]"
   ]
  },
  {
   "cell_type": "markdown",
   "metadata": {},
   "source": [
    "## Post cleaning"
   ]
  },
  {
   "cell_type": "code",
   "execution_count": 124,
   "metadata": {},
   "outputs": [
    {
     "data": {
      "text/html": [
       "<div>\n",
       "<style scoped>\n",
       "    .dataframe tbody tr th:only-of-type {\n",
       "        vertical-align: middle;\n",
       "    }\n",
       "\n",
       "    .dataframe tbody tr th {\n",
       "        vertical-align: top;\n",
       "    }\n",
       "\n",
       "    .dataframe thead th {\n",
       "        text-align: right;\n",
       "    }\n",
       "</style>\n",
       "<table border=\"1\" class=\"dataframe\">\n",
       "  <thead>\n",
       "    <tr style=\"text-align: right;\">\n",
       "      <th></th>\n",
       "      <th>id</th>\n",
       "      <th>text</th>\n",
       "      <th>ngv_qlty_1</th>\n",
       "      <th>ngv_qlty_2</th>\n",
       "      <th>ngv_qlty_3</th>\n",
       "      <th>cleaned_tweet</th>\n",
       "      <th>pre_clean_len</th>\n",
       "      <th>post_clean_len</th>\n",
       "    </tr>\n",
       "  </thead>\n",
       "  <tbody>\n",
       "    <tr>\n",
       "      <td>0</td>\n",
       "      <td>000897889268bc93</td>\n",
       "      <td>REDIRECT Talk:Voydan Pop Georgiev- Chernodrinski</td>\n",
       "      <td>0</td>\n",
       "      <td>0</td>\n",
       "      <td>0</td>\n",
       "      <td>redirect talk voydan pop georgiev chernodrinski</td>\n",
       "      <td>48</td>\n",
       "      <td>47</td>\n",
       "    </tr>\n",
       "    <tr>\n",
       "      <td>1</td>\n",
       "      <td>00173958f46763a2</td>\n",
       "      <td>TFD \\n\\nI think we just eced. I think we respo...</td>\n",
       "      <td>0</td>\n",
       "      <td>0</td>\n",
       "      <td>0</td>\n",
       "      <td>tfd think eced think responded seeing response...</td>\n",
       "      <td>198</td>\n",
       "      <td>84</td>\n",
       "    </tr>\n",
       "    <tr>\n",
       "      <td>2</td>\n",
       "      <td>0034d7c78cfa6dee</td>\n",
       "      <td>\"\\n\\nChrist. \"\"IQ is selected for therefore ev...</td>\n",
       "      <td>0</td>\n",
       "      <td>0</td>\n",
       "      <td>0</td>\n",
       "      <td>christ iq selected population ha iq cease amaze</td>\n",
       "      <td>109</td>\n",
       "      <td>47</td>\n",
       "    </tr>\n",
       "    <tr>\n",
       "      <td>3</td>\n",
       "      <td>003fa0c68deca750</td>\n",
       "      <td>Check the following websites:\\n\\nhttp://www.ir...</td>\n",
       "      <td>0</td>\n",
       "      <td>0</td>\n",
       "      <td>0</td>\n",
       "      <td>check following website personality farabi far...</td>\n",
       "      <td>177</td>\n",
       "      <td>88</td>\n",
       "    </tr>\n",
       "    <tr>\n",
       "      <td>4</td>\n",
       "      <td>004a789c03eda830</td>\n",
       "      <td>Including some appropriate mention of the Solo...</td>\n",
       "      <td>0</td>\n",
       "      <td>0</td>\n",
       "      <td>0</td>\n",
       "      <td>including appropriate mention solomon article ...</td>\n",
       "      <td>96</td>\n",
       "      <td>59</td>\n",
       "    </tr>\n",
       "  </tbody>\n",
       "</table>\n",
       "</div>"
      ],
      "text/plain": [
       "                 id                                               text  \\\n",
       "0  000897889268bc93   REDIRECT Talk:Voydan Pop Georgiev- Chernodrinski   \n",
       "1  00173958f46763a2  TFD \\n\\nI think we just eced. I think we respo...   \n",
       "2  0034d7c78cfa6dee  \"\\n\\nChrist. \"\"IQ is selected for therefore ev...   \n",
       "3  003fa0c68deca750  Check the following websites:\\n\\nhttp://www.ir...   \n",
       "4  004a789c03eda830  Including some appropriate mention of the Solo...   \n",
       "\n",
       "   ngv_qlty_1  ngv_qlty_2  ngv_qlty_3  \\\n",
       "0           0           0           0   \n",
       "1           0           0           0   \n",
       "2           0           0           0   \n",
       "3           0           0           0   \n",
       "4           0           0           0   \n",
       "\n",
       "                                       cleaned_tweet  pre_clean_len  \\\n",
       "0    redirect talk voydan pop georgiev chernodrinski             48   \n",
       "1  tfd think eced think responded seeing response...            198   \n",
       "2    christ iq selected population ha iq cease amaze            109   \n",
       "3  check following website personality farabi far...            177   \n",
       "4  including appropriate mention solomon article ...             96   \n",
       "\n",
       "   post_clean_len  \n",
       "0              47  \n",
       "1              84  \n",
       "2              47  \n",
       "3              88  \n",
       "4              59  "
      ]
     },
     "execution_count": 124,
     "metadata": {},
     "output_type": "execute_result"
    }
   ],
   "source": [
    "df.head()"
   ]
  },
  {
   "cell_type": "markdown",
   "metadata": {},
   "source": [
    "## WordCloud"
   ]
  },
  {
   "cell_type": "code",
   "execution_count": 133,
   "metadata": {},
   "outputs": [],
   "source": [
    "# all tweets \n",
    "all_words = \" \".join(df['cleaned_tweet'])"
   ]
  },
  {
   "cell_type": "code",
   "execution_count": 134,
   "metadata": {},
   "outputs": [],
   "source": [
    "#Hatred tweets class 3\n",
    "hatred_words = \" \".join(df[df['ngv_qlty_3']==1].cleaned_tweet)"
   ]
  },
  {
   "cell_type": "code",
   "execution_count": 135,
   "metadata": {},
   "outputs": [
    {
     "data": {
      "text/plain": [
       "(-0.5, 999.5, 999.5, -0.5)"
      ]
     },
     "execution_count": 135,
     "metadata": {},
     "output_type": "execute_result"
    },
    {
     "data": {
      "image/png": "[encoded data removed]",
      "text/plain": [
       "<Figure size 432x288 with 1 Axes>"
      ]
     },
     "metadata": {
      "needs_background": "light"
     },
     "output_type": "display_data"
    }
   ],
   "source": [
    "wordcloud = WordCloud(height=1000, width=1000, stopwords=STOPWORDS, background_color='white',)\n",
    "wordcloud = wordcloud.generate(all_words)\n",
    "plt.imshow(wordcloud)\n",
    "plt.axis('off')"
   ]
  },
  {
   "cell_type": "code",
   "execution_count": 136,
   "metadata": {},
   "outputs": [
    {
     "data": {
      "text/plain": [
       "(-0.5, 999.5, 999.5, -0.5)"
      ]
     },
     "execution_count": 136,
     "metadata": {},
     "output_type": "execute_result"
    },
    {
     "data": {
      "image/png": "[encoded data removed]",
      "text/plain": [
       "<Figure size 432x288 with 1 Axes>"
      ]
     },
     "metadata": {
      "needs_background": "light"
     },
     "output_type": "display_data"
    }
   ],
   "source": [
    "wordcloud = WordCloud(height=1000, width=1000, stopwords=STOPWORDS, background_color='white',)\n",
    "wordcloud = wordcloud.generate(hatred_words)\n",
    "plt.imshow(wordcloud)\n",
    "plt.axis('off')"
   ]
  },
  {
   "cell_type": "markdown",
   "metadata": {},
   "source": [
    "## Spilting the datset for three different classes"
   ]
  },
  {
   "cell_type": "code",
   "execution_count": 73,
   "metadata": {},
   "outputs": [],
   "source": [
    "train_x1, test_x1, train_y1, test_y1 = train_test_split(df['cleaned_tweet'], df['ngv_qlty_1'], test_size=0.2)"
   ]
  },
  {
   "cell_type": "code",
   "execution_count": 74,
   "metadata": {},
   "outputs": [],
   "source": [
    "train_x2, test_x2, train_y2, test_y2 = train_test_split(df['cleaned_tweet'], df['ngv_qlty_2'], test_size=0.2)"
   ]
  },
  {
   "cell_type": "code",
   "execution_count": 75,
   "metadata": {},
   "outputs": [],
   "source": [
    "train_x3, test_x3, train_y3, test_y3 = train_test_split(df['cleaned_tweet'], df['ngv_qlty_3'], test_size=0.2)"
   ]
  },
  {
   "cell_type": "markdown",
   "metadata": {},
   "source": [
    "## Training separately for each class"
   ]
  },
  {
   "cell_type": "code",
   "execution_count": 79,
   "metadata": {},
   "outputs": [],
   "source": [
    "text_clf_svm_model_1, text_clf_svm1, feat_names1 = get_bow_model(train_x1, train_y1)"
   ]
  },
  {
   "cell_type": "code",
   "execution_count": 80,
   "metadata": {},
   "outputs": [],
   "source": [
    "text_clf_svm_model_2, text_clf_svm2, feat_names2 = get_bow_model(train_x2, train_y2)"
   ]
  },
  {
   "cell_type": "code",
   "execution_count": 81,
   "metadata": {},
   "outputs": [],
   "source": [
    "text_clf_svm_model_3, text_clf_svm3, feat_names3 = get_bow_model(train_x3, train_y3)"
   ]
  },
  {
   "cell_type": "markdown",
   "metadata": {},
   "source": [
    "## Predictions and accruacy metrics for class 1 "
   ]
  },
  {
   "cell_type": "code",
   "execution_count": 82,
   "metadata": {},
   "outputs": [
    {
     "name": "stdout",
     "output_type": "stream",
     "text": [
      "The accuracy( Test_negative_1 ) for the model BOW-SVM\n",
      "0.8278459111495599\n",
      "[[1730   98]\n",
      " [  50  122]]\n",
      "              precision    recall  f1-score   support\n",
      "\n",
      "         0.0       0.97      0.95      0.96      1828\n",
      "         1.0       0.55      0.71      0.62       172\n",
      "\n",
      "   micro avg       0.93      0.93      0.93      2000\n",
      "   macro avg       0.76      0.83      0.79      2000\n",
      "weighted avg       0.94      0.93      0.93      2000\n",
      "\n",
      "--------------------------------------------------------------\n",
      "\n",
      "\n"
     ]
    },
    {
     "data": {
      "image/png": "[encoded data removed]",
      "text/plain": [
       "<Figure size 432x288 with 1 Axes>"
      ]
     },
     "metadata": {
      "needs_background": "light"
     },
     "output_type": "display_data"
    }
   ],
   "source": [
    "prediction = text_clf_svm1.predict(test_x1)\n",
    "    \n",
    "prediction = [float(i) for i in prediction]\n",
    "actual = [float(i) for i in test_y1]\n",
    "display_accuracy(prediction,actual,\"BOW-SVM\", \"Test_negative_1\")\n",
    "\n",
    "plot_roc(actual,prediction)"
   ]
  },
  {
   "cell_type": "markdown",
   "metadata": {},
   "source": [
    "## Predictions and accruacy metrics for class 2"
   ]
  },
  {
   "cell_type": "code",
   "execution_count": 84,
   "metadata": {},
   "outputs": [
    {
     "name": "stdout",
     "output_type": "stream",
     "text": [
      "The accuracy( Test_negative_2 ) for the model BOW-SVM\n",
      "0.7961011946971385\n",
      "[[1913   10]\n",
      " [  31   46]]\n",
      "              precision    recall  f1-score   support\n",
      "\n",
      "         0.0       0.98      0.99      0.99      1923\n",
      "         1.0       0.82      0.60      0.69        77\n",
      "\n",
      "   micro avg       0.98      0.98      0.98      2000\n",
      "   macro avg       0.90      0.80      0.84      2000\n",
      "weighted avg       0.98      0.98      0.98      2000\n",
      "\n",
      "--------------------------------------------------------------\n",
      "\n",
      "\n"
     ]
    },
    {
     "data": {
      "image/png": "[encoded data removed]",
      "text/plain": [
       "<Figure size 432x288 with 1 Axes>"
      ]
     },
     "metadata": {
      "needs_background": "light"
     },
     "output_type": "display_data"
    }
   ],
   "source": [
    "prediction = text_clf_svm2.predict(test_x2)\n",
    "    \n",
    "prediction = [float(i) for i in prediction]\n",
    "actual = [float(i) for i in test_y2]\n",
    "display_accuracy(prediction,actual,\"BOW-SVM\", \"Test_negative_2\")\n",
    "\n",
    "plot_roc(actual,prediction)"
   ]
  },
  {
   "cell_type": "markdown",
   "metadata": {},
   "source": [
    "## Predictions and accruacy metrics for class 3"
   ]
  },
  {
   "cell_type": "code",
   "execution_count": 85,
   "metadata": {},
   "outputs": [
    {
     "name": "stdout",
     "output_type": "stream",
     "text": [
      "The accuracy( Test_negative_3 ) for the model BOW-SVM\n",
      "0.7116470723835869\n",
      "[[1914   14]\n",
      " [  41   31]]\n",
      "              precision    recall  f1-score   support\n",
      "\n",
      "         0.0       0.98      0.99      0.99      1928\n",
      "         1.0       0.69      0.43      0.53        72\n",
      "\n",
      "   micro avg       0.97      0.97      0.97      2000\n",
      "   macro avg       0.83      0.71      0.76      2000\n",
      "weighted avg       0.97      0.97      0.97      2000\n",
      "\n",
      "--------------------------------------------------------------\n",
      "\n",
      "\n"
     ]
    },
    {
     "data": {
      "image/png": "[encoded data removed]",
      "text/plain": [
       "<Figure size 432x288 with 1 Axes>"
      ]
     },
     "metadata": {
      "needs_background": "light"
     },
     "output_type": "display_data"
    }
   ],
   "source": [
    "prediction = text_clf_svm3.predict(test_x3)\n",
    "    \n",
    "prediction = [float(i) for i in prediction]\n",
    "actual = [float(i) for i in test_y3]\n",
    "display_accuracy(prediction,actual,\"BOW-SVM\", \"Test_negative_3\")\n",
    "\n",
    "plot_roc(actual,prediction)"
   ]
  },
  {
   "cell_type": "markdown",
   "metadata": {},
   "source": [
    "## Top 30 negative and positive features for class 1"
   ]
  },
  {
   "cell_type": "code",
   "execution_count": 91,
   "metadata": {},
   "outputs": [
    {
     "name": "stdout",
     "output_type": "stream",
     "text": [
      "Total number of features are  27256\n"
     ]
    },
    {
     "data": {
      "image/png": "[encoded data removed]",
      "text/plain": [
       "<Figure size 1080x360 with 1 Axes>"
      ]
     },
     "metadata": {
      "needs_background": "light"
     },
     "output_type": "display_data"
    }
   ],
   "source": [
    "classifier = text_clf_svm_model_1.best_estimator_.named_steps['clf-svm']\n",
    "pos_list, neg_list = plot_model_weights(classifier, feat_names1, 30)"
   ]
  },
  {
   "cell_type": "markdown",
   "metadata": {},
   "source": [
    "## Top 30 negative and positive features for class 2"
   ]
  },
  {
   "cell_type": "code",
   "execution_count": 92,
   "metadata": {},
   "outputs": [
    {
     "name": "stdout",
     "output_type": "stream",
     "text": [
      "Total number of features are  27354\n"
     ]
    },
    {
     "data": {
      "image/png": "[encoded data removed]",
      "text/plain": [
       "<Figure size 1080x360 with 1 Axes>"
      ]
     },
     "metadata": {
      "needs_background": "light"
     },
     "output_type": "display_data"
    }
   ],
   "source": [
    "classifier = text_clf_svm_model_2.best_estimator_.named_steps['clf-svm']\n",
    "pos_list, neg_list = plot_model_weights(classifier, feat_names2, 30)"
   ]
  },
  {
   "cell_type": "markdown",
   "metadata": {},
   "source": [
    "## Top 30 negative and positive features for class 3"
   ]
  },
  {
   "cell_type": "code",
   "execution_count": 93,
   "metadata": {},
   "outputs": [
    {
     "name": "stdout",
     "output_type": "stream",
     "text": [
      "Total number of features are  26951\n"
     ]
    },
    {
     "data": {
      "image/png": "[encoded data removed]",
      "text/plain": [
       "<Figure size 1080x360 with 1 Axes>"
      ]
     },
     "metadata": {
      "needs_background": "light"
     },
     "output_type": "display_data"
    }
   ],
   "source": [
    "classifier = text_clf_svm_model_3.best_estimator_.named_steps['clf-svm']\n",
    "pos_list, neg_list = plot_model_weights(classifier, feat_names3, 30)"
   ]
  },
  {
   "cell_type": "markdown",
   "metadata": {},
   "source": [
    "## Predictions on test data"
   ]
  },
  {
   "cell_type": "code",
   "execution_count": 106,
   "metadata": {},
   "outputs": [
    {
     "data": {
      "text/html": [
       "<div>\n",
       "<style scoped>\n",
       "    .dataframe tbody tr th:only-of-type {\n",
       "        vertical-align: middle;\n",
       "    }\n",
       "\n",
       "    .dataframe tbody tr th {\n",
       "        vertical-align: top;\n",
       "    }\n",
       "\n",
       "    .dataframe thead th {\n",
       "        text-align: right;\n",
       "    }\n",
       "</style>\n",
       "<table border=\"1\" class=\"dataframe\">\n",
       "  <thead>\n",
       "    <tr style=\"text-align: right;\">\n",
       "      <th></th>\n",
       "      <th>id</th>\n",
       "      <th>text</th>\n",
       "      <th>cleaned_tweet</th>\n",
       "    </tr>\n",
       "  </thead>\n",
       "  <tbody>\n",
       "    <tr>\n",
       "      <td>0</td>\n",
       "      <td>000b08c464718505</td>\n",
       "      <td>\"\\n\\n Regarding your recent edits \\n\\nOnce aga...</td>\n",
       "      <td>regarding recent edits read wp filmplot editin...</td>\n",
       "    </tr>\n",
       "    <tr>\n",
       "      <td>1</td>\n",
       "      <td>001956c382006abd</td>\n",
       "      <td>I'm Sorry \\n\\nI'm sorry I screwed around with ...</td>\n",
       "      <td>sorry sorry screwed talk page wa bad know temp...</td>\n",
       "    </tr>\n",
       "    <tr>\n",
       "      <td>2</td>\n",
       "      <td>006b888560bcdfcd</td>\n",
       "      <td>\"know the sex of the foetus\"\"\"</td>\n",
       "      <td>know sex foetus</td>\n",
       "    </tr>\n",
       "    <tr>\n",
       "      <td>3</td>\n",
       "      <td>007810bde7d6ebd4</td>\n",
       "      <td>About Mitch moved to Yggdrasill \\n\\nI have no ...</td>\n",
       "      <td>mitch moved yggdrasill idea</td>\n",
       "    </tr>\n",
       "    <tr>\n",
       "      <td>4</td>\n",
       "      <td>00c438b052cc0f26</td>\n",
       "      <td>Appearance in historical fiction \\n\\nThe young...</td>\n",
       "      <td>appearance historical fiction young richard st...</td>\n",
       "    </tr>\n",
       "  </tbody>\n",
       "</table>\n",
       "</div>"
      ],
      "text/plain": [
       "                 id                                               text  \\\n",
       "0  000b08c464718505  \"\\n\\n Regarding your recent edits \\n\\nOnce aga...   \n",
       "1  001956c382006abd  I'm Sorry \\n\\nI'm sorry I screwed around with ...   \n",
       "2  006b888560bcdfcd                     \"know the sex of the foetus\"\"\"   \n",
       "3  007810bde7d6ebd4  About Mitch moved to Yggdrasill \\n\\nI have no ...   \n",
       "4  00c438b052cc0f26  Appearance in historical fiction \\n\\nThe young...   \n",
       "\n",
       "                                       cleaned_tweet  \n",
       "0  regarding recent edits read wp filmplot editin...  \n",
       "1  sorry sorry screwed talk page wa bad know temp...  \n",
       "2                                    know sex foetus  \n",
       "3                        mitch moved yggdrasill idea  \n",
       "4  appearance historical fiction young richard st...  "
      ]
     },
     "execution_count": 106,
     "metadata": {},
     "output_type": "execute_result"
    }
   ],
   "source": [
    "df_test = pd.read_csv('test.csv')\n",
    "df_test['cleaned_tweet'] = df_test.apply(lambda row : clean_data(row['text']), axis=1)\n",
    "df_test.head()"
   ]
  },
  {
   "cell_type": "markdown",
   "metadata": {},
   "source": [
    "## Running 3 different classifiers for each class"
   ]
  },
  {
   "cell_type": "code",
   "execution_count": 107,
   "metadata": {},
   "outputs": [],
   "source": [
    "prediction_test1 = text_clf_svm1.predict(df_test['cleaned_tweet'])"
   ]
  },
  {
   "cell_type": "code",
   "execution_count": 108,
   "metadata": {},
   "outputs": [],
   "source": [
    "prediction_test2 = text_clf_svm2.predict(df_test['cleaned_tweet'])"
   ]
  },
  {
   "cell_type": "code",
   "execution_count": 109,
   "metadata": {},
   "outputs": [],
   "source": [
    "prediction_test3 = text_clf_svm3.predict(df_test['cleaned_tweet'])"
   ]
  },
  {
   "cell_type": "code",
   "execution_count": 110,
   "metadata": {},
   "outputs": [
    {
     "data": {
      "text/html": [
       "<div>\n",
       "<style scoped>\n",
       "    .dataframe tbody tr th:only-of-type {\n",
       "        vertical-align: middle;\n",
       "    }\n",
       "\n",
       "    .dataframe tbody tr th {\n",
       "        vertical-align: top;\n",
       "    }\n",
       "\n",
       "    .dataframe thead th {\n",
       "        text-align: right;\n",
       "    }\n",
       "</style>\n",
       "<table border=\"1\" class=\"dataframe\">\n",
       "  <thead>\n",
       "    <tr style=\"text-align: right;\">\n",
       "      <th></th>\n",
       "      <th>id</th>\n",
       "      <th>text</th>\n",
       "      <th>cleaned_tweet</th>\n",
       "      <th>prediction_ngv_qlty_1</th>\n",
       "    </tr>\n",
       "  </thead>\n",
       "  <tbody>\n",
       "    <tr>\n",
       "      <td>0</td>\n",
       "      <td>000b08c464718505</td>\n",
       "      <td>\"\\n\\n Regarding your recent edits \\n\\nOnce aga...</td>\n",
       "      <td>regarding recent edits read wp filmplot editin...</td>\n",
       "      <td>0</td>\n",
       "    </tr>\n",
       "    <tr>\n",
       "      <td>1</td>\n",
       "      <td>001956c382006abd</td>\n",
       "      <td>I'm Sorry \\n\\nI'm sorry I screwed around with ...</td>\n",
       "      <td>sorry sorry screwed talk page wa bad know temp...</td>\n",
       "      <td>0</td>\n",
       "    </tr>\n",
       "    <tr>\n",
       "      <td>2</td>\n",
       "      <td>006b888560bcdfcd</td>\n",
       "      <td>\"know the sex of the foetus\"\"\"</td>\n",
       "      <td>know sex foetus</td>\n",
       "      <td>1</td>\n",
       "    </tr>\n",
       "    <tr>\n",
       "      <td>3</td>\n",
       "      <td>007810bde7d6ebd4</td>\n",
       "      <td>About Mitch moved to Yggdrasill \\n\\nI have no ...</td>\n",
       "      <td>mitch moved yggdrasill idea</td>\n",
       "      <td>0</td>\n",
       "    </tr>\n",
       "    <tr>\n",
       "      <td>4</td>\n",
       "      <td>00c438b052cc0f26</td>\n",
       "      <td>Appearance in historical fiction \\n\\nThe young...</td>\n",
       "      <td>appearance historical fiction young richard st...</td>\n",
       "      <td>0</td>\n",
       "    </tr>\n",
       "  </tbody>\n",
       "</table>\n",
       "</div>"
      ],
      "text/plain": [
       "                 id                                               text  \\\n",
       "0  000b08c464718505  \"\\n\\n Regarding your recent edits \\n\\nOnce aga...   \n",
       "1  001956c382006abd  I'm Sorry \\n\\nI'm sorry I screwed around with ...   \n",
       "2  006b888560bcdfcd                     \"know the sex of the foetus\"\"\"   \n",
       "3  007810bde7d6ebd4  About Mitch moved to Yggdrasill \\n\\nI have no ...   \n",
       "4  00c438b052cc0f26  Appearance in historical fiction \\n\\nThe young...   \n",
       "\n",
       "                                       cleaned_tweet  prediction_ngv_qlty_1  \n",
       "0  regarding recent edits read wp filmplot editin...                      0  \n",
       "1  sorry sorry screwed talk page wa bad know temp...                      0  \n",
       "2                                    know sex foetus                      1  \n",
       "3                        mitch moved yggdrasill idea                      0  \n",
       "4  appearance historical fiction young richard st...                      0  "
      ]
     },
     "execution_count": 110,
     "metadata": {},
     "output_type": "execute_result"
    }
   ],
   "source": [
    "df_test['prediction_ngv_qlty_1'] = prediction_test1\n",
    "df_test.head()"
   ]
  },
  {
   "cell_type": "code",
   "execution_count": 111,
   "metadata": {},
   "outputs": [
    {
     "data": {
      "text/html": [
       "<div>\n",
       "<style scoped>\n",
       "    .dataframe tbody tr th:only-of-type {\n",
       "        vertical-align: middle;\n",
       "    }\n",
       "\n",
       "    .dataframe tbody tr th {\n",
       "        vertical-align: top;\n",
       "    }\n",
       "\n",
       "    .dataframe thead th {\n",
       "        text-align: right;\n",
       "    }\n",
       "</style>\n",
       "<table border=\"1\" class=\"dataframe\">\n",
       "  <thead>\n",
       "    <tr style=\"text-align: right;\">\n",
       "      <th></th>\n",
       "      <th>id</th>\n",
       "      <th>text</th>\n",
       "      <th>cleaned_tweet</th>\n",
       "      <th>prediction_ngv_qlty_1</th>\n",
       "      <th>prediction_ngv_qlty_2</th>\n",
       "    </tr>\n",
       "  </thead>\n",
       "  <tbody>\n",
       "    <tr>\n",
       "      <td>0</td>\n",
       "      <td>000b08c464718505</td>\n",
       "      <td>\"\\n\\n Regarding your recent edits \\n\\nOnce aga...</td>\n",
       "      <td>regarding recent edits read wp filmplot editin...</td>\n",
       "      <td>0</td>\n",
       "      <td>0</td>\n",
       "    </tr>\n",
       "    <tr>\n",
       "      <td>1</td>\n",
       "      <td>001956c382006abd</td>\n",
       "      <td>I'm Sorry \\n\\nI'm sorry I screwed around with ...</td>\n",
       "      <td>sorry sorry screwed talk page wa bad know temp...</td>\n",
       "      <td>0</td>\n",
       "      <td>0</td>\n",
       "    </tr>\n",
       "    <tr>\n",
       "      <td>2</td>\n",
       "      <td>006b888560bcdfcd</td>\n",
       "      <td>\"know the sex of the foetus\"\"\"</td>\n",
       "      <td>know sex foetus</td>\n",
       "      <td>1</td>\n",
       "      <td>0</td>\n",
       "    </tr>\n",
       "    <tr>\n",
       "      <td>3</td>\n",
       "      <td>007810bde7d6ebd4</td>\n",
       "      <td>About Mitch moved to Yggdrasill \\n\\nI have no ...</td>\n",
       "      <td>mitch moved yggdrasill idea</td>\n",
       "      <td>0</td>\n",
       "      <td>0</td>\n",
       "    </tr>\n",
       "    <tr>\n",
       "      <td>4</td>\n",
       "      <td>00c438b052cc0f26</td>\n",
       "      <td>Appearance in historical fiction \\n\\nThe young...</td>\n",
       "      <td>appearance historical fiction young richard st...</td>\n",
       "      <td>0</td>\n",
       "      <td>0</td>\n",
       "    </tr>\n",
       "  </tbody>\n",
       "</table>\n",
       "</div>"
      ],
      "text/plain": [
       "                 id                                               text  \\\n",
       "0  000b08c464718505  \"\\n\\n Regarding your recent edits \\n\\nOnce aga...   \n",
       "1  001956c382006abd  I'm Sorry \\n\\nI'm sorry I screwed around with ...   \n",
       "2  006b888560bcdfcd                     \"know the sex of the foetus\"\"\"   \n",
       "3  007810bde7d6ebd4  About Mitch moved to Yggdrasill \\n\\nI have no ...   \n",
       "4  00c438b052cc0f26  Appearance in historical fiction \\n\\nThe young...   \n",
       "\n",
       "                                       cleaned_tweet  prediction_ngv_qlty_1  \\\n",
       "0  regarding recent edits read wp filmplot editin...                      0   \n",
       "1  sorry sorry screwed talk page wa bad know temp...                      0   \n",
       "2                                    know sex foetus                      1   \n",
       "3                        mitch moved yggdrasill idea                      0   \n",
       "4  appearance historical fiction young richard st...                      0   \n",
       "\n",
       "   prediction_ngv_qlty_2  \n",
       "0                      0  \n",
       "1                      0  \n",
       "2                      0  \n",
       "3                      0  \n",
       "4                      0  "
      ]
     },
     "execution_count": 111,
     "metadata": {},
     "output_type": "execute_result"
    }
   ],
   "source": [
    "df_test['prediction_ngv_qlty_2'] = prediction_test2\n",
    "df_test.head()"
   ]
  },
  {
   "cell_type": "markdown",
   "metadata": {},
   "source": [
    "## Predictions: all three classes"
   ]
  },
  {
   "cell_type": "code",
   "execution_count": 112,
   "metadata": {},
   "outputs": [
    {
     "data": {
      "text/html": [
       "<div>\n",
       "<style scoped>\n",
       "    .dataframe tbody tr th:only-of-type {\n",
       "        vertical-align: middle;\n",
       "    }\n",
       "\n",
       "    .dataframe tbody tr th {\n",
       "        vertical-align: top;\n",
       "    }\n",
       "\n",
       "    .dataframe thead th {\n",
       "        text-align: right;\n",
       "    }\n",
       "</style>\n",
       "<table border=\"1\" class=\"dataframe\">\n",
       "  <thead>\n",
       "    <tr style=\"text-align: right;\">\n",
       "      <th></th>\n",
       "      <th>id</th>\n",
       "      <th>text</th>\n",
       "      <th>cleaned_tweet</th>\n",
       "      <th>prediction_ngv_qlty_1</th>\n",
       "      <th>prediction_ngv_qlty_2</th>\n",
       "      <th>prediction_ngv_qlty_3</th>\n",
       "    </tr>\n",
       "  </thead>\n",
       "  <tbody>\n",
       "    <tr>\n",
       "      <td>0</td>\n",
       "      <td>000b08c464718505</td>\n",
       "      <td>\"\\n\\n Regarding your recent edits \\n\\nOnce aga...</td>\n",
       "      <td>regarding recent edits read wp filmplot editin...</td>\n",
       "      <td>0</td>\n",
       "      <td>0</td>\n",
       "      <td>0</td>\n",
       "    </tr>\n",
       "    <tr>\n",
       "      <td>1</td>\n",
       "      <td>001956c382006abd</td>\n",
       "      <td>I'm Sorry \\n\\nI'm sorry I screwed around with ...</td>\n",
       "      <td>sorry sorry screwed talk page wa bad know temp...</td>\n",
       "      <td>0</td>\n",
       "      <td>0</td>\n",
       "      <td>0</td>\n",
       "    </tr>\n",
       "    <tr>\n",
       "      <td>2</td>\n",
       "      <td>006b888560bcdfcd</td>\n",
       "      <td>\"know the sex of the foetus\"\"\"</td>\n",
       "      <td>know sex foetus</td>\n",
       "      <td>1</td>\n",
       "      <td>0</td>\n",
       "      <td>0</td>\n",
       "    </tr>\n",
       "    <tr>\n",
       "      <td>3</td>\n",
       "      <td>007810bde7d6ebd4</td>\n",
       "      <td>About Mitch moved to Yggdrasill \\n\\nI have no ...</td>\n",
       "      <td>mitch moved yggdrasill idea</td>\n",
       "      <td>0</td>\n",
       "      <td>0</td>\n",
       "      <td>0</td>\n",
       "    </tr>\n",
       "    <tr>\n",
       "      <td>4</td>\n",
       "      <td>00c438b052cc0f26</td>\n",
       "      <td>Appearance in historical fiction \\n\\nThe young...</td>\n",
       "      <td>appearance historical fiction young richard st...</td>\n",
       "      <td>0</td>\n",
       "      <td>0</td>\n",
       "      <td>0</td>\n",
       "    </tr>\n",
       "  </tbody>\n",
       "</table>\n",
       "</div>"
      ],
      "text/plain": [
       "                 id                                               text  \\\n",
       "0  000b08c464718505  \"\\n\\n Regarding your recent edits \\n\\nOnce aga...   \n",
       "1  001956c382006abd  I'm Sorry \\n\\nI'm sorry I screwed around with ...   \n",
       "2  006b888560bcdfcd                     \"know the sex of the foetus\"\"\"   \n",
       "3  007810bde7d6ebd4  About Mitch moved to Yggdrasill \\n\\nI have no ...   \n",
       "4  00c438b052cc0f26  Appearance in historical fiction \\n\\nThe young...   \n",
       "\n",
       "                                       cleaned_tweet  prediction_ngv_qlty_1  \\\n",
       "0  regarding recent edits read wp filmplot editin...                      0   \n",
       "1  sorry sorry screwed talk page wa bad know temp...                      0   \n",
       "2                                    know sex foetus                      1   \n",
       "3                        mitch moved yggdrasill idea                      0   \n",
       "4  appearance historical fiction young richard st...                      0   \n",
       "\n",
       "   prediction_ngv_qlty_2  prediction_ngv_qlty_3  \n",
       "0                      0                      0  \n",
       "1                      0                      0  \n",
       "2                      0                      0  \n",
       "3                      0                      0  \n",
       "4                      0                      0  "
      ]
     },
     "execution_count": 112,
     "metadata": {},
     "output_type": "execute_result"
    }
   ],
   "source": [
    "df_test['prediction_ngv_qlty_3'] = prediction_test3\n",
    "df_test.head()"
   ]
  },
  {
   "cell_type": "code",
   "execution_count": 113,
   "metadata": {},
   "outputs": [
    {
     "data": {
      "text/plain": [
       "0    1781\n",
       "1     219\n",
       "Name: prediction_ngv_qlty_1, dtype: int64"
      ]
     },
     "execution_count": 113,
     "metadata": {},
     "output_type": "execute_result"
    }
   ],
   "source": [
    "df_test['prediction_ngv_qlty_1'].value_counts()"
   ]
  },
  {
   "cell_type": "code",
   "execution_count": 114,
   "metadata": {},
   "outputs": [
    {
     "data": {
      "text/plain": [
       "0    1955\n",
       "1      45\n",
       "Name: prediction_ngv_qlty_2, dtype: int64"
      ]
     },
     "execution_count": 114,
     "metadata": {},
     "output_type": "execute_result"
    }
   ],
   "source": [
    "df_test['prediction_ngv_qlty_2'].value_counts()"
   ]
  },
  {
   "cell_type": "code",
   "execution_count": 115,
   "metadata": {},
   "outputs": [
    {
     "data": {
      "text/plain": [
       "0    1958\n",
       "1      42\n",
       "Name: prediction_ngv_qlty_3, dtype: int64"
      ]
     },
     "execution_count": 115,
     "metadata": {},
     "output_type": "execute_result"
    }
   ],
   "source": [
    "df_test['prediction_ngv_qlty_3'].value_counts()"
   ]
  },
  {
   "cell_type": "code",
   "execution_count": null,
   "metadata": {},
   "outputs": [],
   "source": []
  }
 ],
 "metadata": {
  "kernelspec": {
   "display_name": "Python 3",
   "language": "python",
   "name": "python3"
  },
  "language_info": {
   "codemirror_mode": {
    "name": "ipython",
    "version": 3
   },
   "file_extension": ".py",
   "mimetype": "text/x-python",
   "name": "python",
   "nbconvert_exporter": "python",
   "pygments_lexer": "ipython3",
   "version": "3.7.4"
  }
 },
 "nbformat": 4,
 "nbformat_minor": 2
}
